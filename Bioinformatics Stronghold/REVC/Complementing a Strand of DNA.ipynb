{
 "cells": [
  {
   "cell_type": "code",
   "execution_count": 1,
   "id": "2ccea3fa",
   "metadata": {},
   "outputs": [],
   "source": [
    "# Sample Dataset : AAAACCCGGT\n",
    "# Sample Output : ACCGGGTTTT\n"
   ]
  },
  {
   "cell_type": "code",
   "execution_count": null,
   "id": "3cccac69",
   "metadata": {},
   "outputs": [
    {
     "name": "stdout",
     "output_type": "stream",
     "text": [
      "ACCGGGTTTT\n"
     ]
    }
   ],
   "source": [
    "sample = \"AAAACCCGGT\"\n",
    "\n",
    "# Let's complement the DNA sequence\n",
    "complement = {\n",
    "    'A': 'T',\n",
    "    'T': 'A',\n",
    "    'C': 'G',\n",
    "    'G': 'C'\n",
    "}\n",
    "# Create the complementary sequence\n",
    "complementary_sequence = ''.join(complement[base] for base in sample)\n",
    "# Reverse the complementary sequence    \n",
    "reversed_complementary_sequence = complementary_sequence[::-1]\n",
    "# Print the result\n",
    "print(reversed_complementary_sequence)    "
   ]
  },
  {
   "cell_type": "code",
   "execution_count": null,
   "id": "04eb3866",
   "metadata": {},
   "outputs": [],
   "source": [
    "# Now the lets create function to do the same and read from a file with error handling\n",
    "\n",
    "def reverse_complement(file_path):\n",
    "    try:\n",
    "        with open(file_path, 'r') as file:\n",
    "            sample = file.read().strip()\n",
    "        \n",
    "        complement = {\n",
    "            'A': 'T',\n",
    "            'T': 'A',\n",
    "            'C': 'G',\n",
    "            'G': 'C'\n",
    "        }\n",
    "        \n",
    "        complementary_sequence = ''.join(complement[base] for base in sample)\n",
    "        reversed_complementary_sequence = complementary_sequence[::-1]\n",
    "        \n",
    "        return reversed_complementary_sequence\n",
    "    \n",
    "    except FileNotFoundError:\n",
    "        return \"Error: The specified file does not exist.\"\n",
    "    except Exception as e:\n",
    "        return f\"An error occurred: {e}\"\n"
   ]
  },
  {
   "cell_type": "code",
   "execution_count": 4,
   "id": "794858ac",
   "metadata": {},
   "outputs": [],
   "source": [
    "file_path = 'rosalind_revc.txt'  # Replace with your file path\n",
    "result = reverse_complement(file_path)"
   ]
  },
  {
   "cell_type": "code",
   "execution_count": 5,
   "id": "086f1e23",
   "metadata": {},
   "outputs": [
    {
     "data": {
      "text/plain": [
       "'AGTGATAGGATAGATTCTTTGACTTAACACGTGGCTAAATTCACGCGTGACGGTTGGGATTAGATTCTAGCCGGCGTCATAAATACATATGTCTAGGGGGAGTCAGTTCTTCCCCTAGGGGGGCCGCTGTGCGCAATTCTCCTCGAGTGGCGACTTGTCGTCTGTTAACCGCGCTGTCCATTGGGAAAATGCGGAGGAATCTGATGCGGTAAGTCATGGTAGTAACAATGTATTTAACGGCACGGTTAGATGGCCTCGAGTTGTTTGGGACTGTGAAATATTACCAGAAAAGGGCGATAAACATATTGGGTACCAATGGTGTATACAACCTTTTAAAAGCTTTGCATTCCAGAACCTTCATAGCTCAAATTGGCTAGCTTGAGGGGCGTTTTGGATCATCTCAATTTTAAACTAGTAGTACATAGTACTCTAAGTCTAGGGAGAGAACTTAGTGAACGCACCCGTGTTTTGCTAGTTCTTCTTCCCTAAAGGACCTCGACTTACTATGTCAGCTCGAGCCAGCAAGGTAAAAGCGGAATGCACGTAACCGACTCCGGAAAGCAAAGCCACAGCTGGAGAGATGTGTCGAGCACAGGTCACTCGGGGTTAACAGGGCTATTTTTAATAGTATCACATACAGGCGTTTGGTATTTAACGGTTTAGCAACGCGGAAGGAAGTTTGACCGCAGAAAATAGCCACCCCTCCCGGTCGTTAGTGATCGGAGACGAAAAAAATCGGGCTGGCGCTGCATCACATTCTTGGAGAAGGTTCTAGTTGGGTGTCTTGTATATGCCGCACTGGTAAGACTTGCGGCGGACCCTACAGTTATTAAGCTTATGTTTCGAATTAGTGCGGTGAGCTGTAATCGCGCAATATCCTACCCCTCTCGTCTTAGTTTCCTCGGCAATCATTCAAATACTCTGCTGCCGGAACGACGCTCGATATAGCGCTAGCG'"
      ]
     },
     "execution_count": 5,
     "metadata": {},
     "output_type": "execute_result"
    }
   ],
   "source": [
    "result"
   ]
  },
  {
   "cell_type": "code",
   "execution_count": null,
   "id": "6b2935af",
   "metadata": {},
   "outputs": [],
   "source": []
  }
 ],
 "metadata": {
  "kernelspec": {
   "display_name": "base",
   "language": "python",
   "name": "python3"
  },
  "language_info": {
   "codemirror_mode": {
    "name": "ipython",
    "version": 3
   },
   "file_extension": ".py",
   "mimetype": "text/x-python",
   "name": "python",
   "nbconvert_exporter": "python",
   "pygments_lexer": "ipython3",
   "version": "3.12.4"
  }
 },
 "nbformat": 4,
 "nbformat_minor": 5
}
