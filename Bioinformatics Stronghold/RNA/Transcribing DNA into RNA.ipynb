{
 "cells": [
  {
   "cell_type": "code",
   "execution_count": 1,
   "id": "f1b862d6",
   "metadata": {},
   "outputs": [],
   "source": [
    "# Sample Dataset : GATGGAACTTGACTACGTAAATT\n",
    "\n",
    "# Sample Output : GAUGGAACUUGACUACGUAAAUU"
   ]
  },
  {
   "cell_type": "code",
   "execution_count": 22,
   "id": "732c8a75",
   "metadata": {},
   "outputs": [
    {
     "data": {
      "text/plain": [
       "'GAUGGAACUUGACUACGUAAAUU'"
      ]
     },
     "execution_count": 22,
     "metadata": {},
     "output_type": "execute_result"
    }
   ],
   "source": [
    "DNA = \"GATGGAACTTGACTACGTAAATT\" \n",
    "\n",
    "# Function to convert DNA to RNA\n",
    "def convert_dna_to_rna(dna_sequence):\n",
    "    return dna_sequence.replace(\"T\", \"U\")\n",
    "    \n",
    "\n",
    "# Convert the DNA sequence to RNA\n",
    "convert_dna_to_rna(DNA)"
   ]
  },
  {
   "cell_type": "code",
   "execution_count": 23,
   "id": "536d16d0",
   "metadata": {},
   "outputs": [],
   "source": [
    "# Function to read DNA sequence from file, convert to RNA, and save to file\n",
    "def read_sequence_from_file(file_path):\n",
    "    try:\n",
    "        with open(file_path, 'r') as file:\n",
    "            dna_sequence = file.read().strip()\n",
    "            rna_seq = convert_dna_to_rna(dna_sequence)\n",
    "            with open(\"rna_sequence.txt\", \"w\") as out_file:\n",
    "                out_file.write(rna_seq)\n",
    "    except FileNotFoundError:\n",
    "        print(f\"File {file_path} not found.\")"
   ]
  },
  {
   "cell_type": "code",
   "execution_count": 24,
   "id": "7b188786",
   "metadata": {},
   "outputs": [],
   "source": [
    "# Fix the convert_dna_to_rna function to return the RNA sequence instead of printing it\n",
    "def convert_dna_to_rna(dna_sequence):\n",
    "    return dna_sequence.replace(\"T\", \"U\")"
   ]
  },
  {
   "cell_type": "code",
   "execution_count": 25,
   "id": "f947de9f",
   "metadata": {},
   "outputs": [],
   "source": [
    "file_path = \"rosalind_rna.txt\""
   ]
  },
  {
   "cell_type": "code",
   "execution_count": 26,
   "id": "b8ce868f",
   "metadata": {},
   "outputs": [],
   "source": [
    "read_sequence_from_file(file_path)"
   ]
  }
 ],
 "metadata": {
  "kernelspec": {
   "display_name": "base",
   "language": "python",
   "name": "python3"
  },
  "language_info": {
   "codemirror_mode": {
    "name": "ipython",
    "version": 3
   },
   "file_extension": ".py",
   "mimetype": "text/x-python",
   "name": "python",
   "nbconvert_exporter": "python",
   "pygments_lexer": "ipython3",
   "version": "3.12.4"
  }
 },
 "nbformat": 4,
 "nbformat_minor": 5
}
