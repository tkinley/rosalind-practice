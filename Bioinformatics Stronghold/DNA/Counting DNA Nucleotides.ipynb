{
 "cells": [
  {
   "cell_type": "code",
   "execution_count": 1,
   "id": "bcf1578d",
   "metadata": {},
   "outputs": [],
   "source": [
    "# Sample Dataset\n",
    "# 'AGCTTTTCATTCTGACTGCAACGGGCAATATGTCTCTGTGTGGATTAAAAAAAGAGTGTCTGATAGCAGC'\n",
    "\n",
    "# Sample Output\n",
    "# 20 12 17 21"
   ]
  },
  {
   "cell_type": "code",
   "execution_count": 6,
   "id": "9b64beec",
   "metadata": {},
   "outputs": [
    {
     "name": "stdout",
     "output_type": "stream",
     "text": [
      "20 12 17 21\n"
     ]
    }
   ],
   "source": [
    "Sample = 'AGCTTTTCATTCTGACTGCAACGGGCAATATGTCTCTGTGTGGATTAAAAAAAGAGTGTCTGATAGCAGC'\n",
    "\n",
    "def count_nucleotides(sequence):\n",
    "    A = sequence.count('A')\n",
    "    C = sequence.count('C')\n",
    "    G = sequence.count('G')\n",
    "    T = sequence.count('T')\n",
    "    \n",
    "    print(A, C, G, T)\n",
    "\n",
    "count_nucleotides(Sample)"
   ]
  },
  {
   "cell_type": "code",
   "execution_count": 2,
   "id": "576243b7",
   "metadata": {},
   "outputs": [],
   "source": [
    "# funtion to open the file and read the sequence\n",
    "def read_sequence_from_file(filename):\n",
    "    with open(filename, 'r') as file:\n",
    "        sequence = file.read().strip() \n",
    "        count_nucleotides(sequence) \n"
   ]
  },
  {
   "cell_type": "code",
   "execution_count": 4,
   "id": "62403098",
   "metadata": {},
   "outputs": [],
   "source": [
    "filename = 'rosalind_dna.txt'"
   ]
  },
  {
   "cell_type": "code",
   "execution_count": 7,
   "id": "d5f33f6b",
   "metadata": {},
   "outputs": [
    {
     "name": "stdout",
     "output_type": "stream",
     "text": [
      "220 226 223 230\n"
     ]
    }
   ],
   "source": [
    "read_sequence_from_file(filename)"
   ]
  }
 ],
 "metadata": {
  "kernelspec": {
   "display_name": "base",
   "language": "python",
   "name": "python3"
  },
  "language_info": {
   "codemirror_mode": {
    "name": "ipython",
    "version": 3
   },
   "file_extension": ".py",
   "mimetype": "text/x-python",
   "name": "python",
   "nbconvert_exporter": "python",
   "pygments_lexer": "ipython3",
   "version": "3.12.4"
  }
 },
 "nbformat": 4,
 "nbformat_minor": 5
}
