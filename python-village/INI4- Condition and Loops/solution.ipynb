{
 "cells": [
  {
   "cell_type": "code",
   "execution_count": 1,
   "id": "35662992",
   "metadata": {},
   "outputs": [
    {
     "name": "stdout",
     "output_type": "stream",
     "text": [
      "The sum of all odd numbers between 100 and 200 is: 7500\n"
     ]
    }
   ],
   "source": [
    "a,b = 100, 200\n",
    "\n",
    "total = 0\n",
    "for odd in range(a, b+1):\n",
    "    if odd % 2 == 1:\n",
    "        total += odd\n",
    "print(\"The sum of all odd numbers between\", a, \"and\", b, \"is:\", total)\n"
   ]
  },
  {
   "cell_type": "code",
   "execution_count": 2,
   "id": "3028c64f",
   "metadata": {},
   "outputs": [
    {
     "data": {
      "text/plain": [
       "7500"
      ]
     },
     "execution_count": 2,
     "metadata": {},
     "output_type": "execute_result"
    }
   ],
   "source": [
    "def sum_of_odds(a, b):\n",
    "    ### returns the sum of all odd numbers between a and b\n",
    "    return sum(odd for odd in range(a,b+1) if odd % 2 ==1)\n",
    "\n",
    "\n",
    "sum_of_odds(100, 200)  # Example usage of the function\n"
   ]
  },
  {
   "cell_type": "code",
   "execution_count": 3,
   "id": "fe782c96",
   "metadata": {},
   "outputs": [
    {
     "data": {
      "text/plain": [
       "14037088"
      ]
     },
     "execution_count": 3,
     "metadata": {},
     "output_type": "execute_result"
    }
   ],
   "source": [
    "sum_of_odds(4453, 8715)"
   ]
  },
  {
   "cell_type": "code",
   "execution_count": null,
   "id": "b32a2b8e",
   "metadata": {},
   "outputs": [],
   "source": []
  }
 ],
 "metadata": {
  "kernelspec": {
   "display_name": "base",
   "language": "python",
   "name": "python3"
  },
  "language_info": {
   "codemirror_mode": {
    "name": "ipython",
    "version": 3
   },
   "file_extension": ".py",
   "mimetype": "text/x-python",
   "name": "python",
   "nbconvert_exporter": "python",
   "pygments_lexer": "ipython3",
   "version": "3.12.4"
  }
 },
 "nbformat": 4,
 "nbformat_minor": 5
}
