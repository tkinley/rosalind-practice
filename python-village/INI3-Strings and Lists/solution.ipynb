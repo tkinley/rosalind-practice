{
 "cells": [
  {
   "cell_type": "code",
   "execution_count": 3,
   "id": "5e355e61",
   "metadata": {},
   "outputs": [
    {
     "name": "stdout",
     "output_type": "stream",
     "text": [
      "Caiman godlewskii\n"
     ]
    }
   ],
   "source": [
    "# Read the string \n",
    "s = input().strip()\n",
    "a, b, c, d = map(int, input().split())\n",
    "\n",
    "# Validate indices\n",
    "n = len(s)\n",
    "if not (0 <= a < n and 0 <= b < n and 0 <= c < n and 0 <= d < n):\n",
    "    raise ValueError(\"Indices must be within the bounds of the string length.\")\n",
    "\n",
    "# Slice (note: Python uses 0-based indexing, thus b+1 and d+1)\n",
    "first = s[a:b+1]\n",
    "second = s[c:d+1]\n",
    "\n",
    "# Print\n",
    "print(first, second)\n"
   ]
  },
  {
   "cell_type": "code",
   "execution_count": 4,
   "id": "1da74301",
   "metadata": {},
   "outputs": [
    {
     "name": "stdout",
     "output_type": "stream",
     "text": [
      "Caiman godlewskii\n"
     ]
    }
   ],
   "source": [
    "# Read the string \n",
    "s = input().strip()\n",
    "a, b, c, d = map(int, input().split())\n",
    "\n",
    "# Validate indices\n",
    "n = len(s)\n",
    "if not (0 <= a < n and 0 <= b < n and 0 <= c < n and 0 <= d < n):\n",
    "    raise ValueError(\"Indices must be within the bounds of the string length.\")\n",
    "\n",
    "# Slice (note: Python uses 0-based indexing, thus b+1 and d+1)\n",
    "first = s[a:b+1]\n",
    "second = s[c:d+1]\n",
    "\n",
    "# Print\n",
    "print(first, second)\n"
   ]
  },
  {
   "cell_type": "code",
   "execution_count": 7,
   "id": "206fc7e8",
   "metadata": {},
   "outputs": [
    {
     "name": "stdout",
     "output_type": "stream",
     "text": [
      "Dafila mnemosyne\n"
     ]
    }
   ],
   "source": [
    "# Read input from the file directly (hardcoded filename)\n",
    "with open('rosalind_ini3.txt', 'r') as file:\n",
    "    s = file.readline().strip()\n",
    "    a, b, c, d = map(int, file.readline().split())\n",
    "\n",
    "# Validate indices\n",
    "n = len(s)\n",
    "if not (0 <= a < n and 0 <= b < n and 0 <= c < n and 0 <= d < n):\n",
    "    raise ValueError(\"Indices must be within the bounds of the string length.\") \n",
    "\n",
    "# Slice (note: Python uses 0-based indexing, thus b+1 and d+1)\n",
    "first = s[a:b+1]\n",
    "second = s[c:d+1]\n",
    "\n",
    "# Print\n",
    "print(first, second)"
   ]
  },
  {
   "cell_type": "code",
   "execution_count": 8,
   "id": "ba21ff17",
   "metadata": {},
   "outputs": [],
   "source": [
    "def openfile(filename):\n",
    "   # Read input from the file directly (hardcoded filename)\n",
    "    with open(filename, 'r') as file:\n",
    "        s = file.readline().strip()\n",
    "        a, b, c, d = map(int, file.readline().split())\n",
    "\n",
    "    # Validate indices\n",
    "    n = len(s)\n",
    "    if not (0 <= a < n and 0 <= b < n and 0 <= c < n and 0 <= d < n):\n",
    "        raise ValueError(\"Indices must be within the bounds of the string length.\") \n",
    "\n",
    "    # Slice (note: Python uses 0-based indexing, thus b+1 and d+1)\n",
    "    first = s[a:b+1]\n",
    "    second = s[c:d+1]\n",
    "\n",
    "    # Print\n",
    "    print(first, second)"
   ]
  },
  {
   "cell_type": "code",
   "execution_count": 11,
   "id": "037e4026",
   "metadata": {},
   "outputs": [
    {
     "name": "stdout",
     "output_type": "stream",
     "text": [
      "Dafila mnemosyne\n"
     ]
    }
   ],
   "source": [
    "openfile('rosalind_ini3.txt')"
   ]
  },
  {
   "cell_type": "code",
   "execution_count": null,
   "id": "85f03bd7",
   "metadata": {},
   "outputs": [],
   "source": []
  }
 ],
 "metadata": {
  "kernelspec": {
   "display_name": "base",
   "language": "python",
   "name": "python3"
  },
  "language_info": {
   "codemirror_mode": {
    "name": "ipython",
    "version": 3
   },
   "file_extension": ".py",
   "mimetype": "text/x-python",
   "name": "python",
   "nbconvert_exporter": "python",
   "pygments_lexer": "ipython3",
   "version": "3.12.4"
  }
 },
 "nbformat": 4,
 "nbformat_minor": 5
}
