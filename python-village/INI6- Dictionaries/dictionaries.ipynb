{
 "cells": [
  {
   "cell_type": "code",
   "execution_count": 14,
   "id": "dbeaa348",
   "metadata": {},
   "outputs": [
    {
     "name": "stdout",
     "output_type": "stream",
     "text": [
      "Total word count: {'We': 1, 'tried': 3, 'list': 1, 'and': 1, 'we': 2, 'dicts': 1, 'also': 1, 'Zen': 1}\n",
      "We : 1\n",
      "tried : 3\n",
      "list : 1\n",
      "and : 1\n",
      "we : 2\n",
      "dicts : 1\n",
      "also : 1\n",
      "Zen : 1\n"
     ]
    }
   ],
   "source": [
    "# Sample Dataset\n",
    "data = 'We tried list and we tried dicts also we tried Zen'\n",
    "total = {}\n",
    "\n",
    "for word in data.split():\n",
    "    # print(f'Processing word: {word}')\n",
    "    if word in total:\n",
    "        total[word] += 1\n",
    "    else:\n",
    "        total[word] = 1\n",
    "print('Total word count:', total)\n",
    "\n",
    "\n",
    "for key,value in total.items():\n",
    "    print(f'{key} : {value}')"
   ]
  },
  {
   "cell_type": "code",
   "execution_count": 5,
   "id": "ab1b3fe9",
   "metadata": {},
   "outputs": [
    {
     "name": "stdout",
     "output_type": "stream",
     "text": [
      "Total word count: {'When': 1, 'I': 2, 'find': 1, 'myself': 1, 'in': 4, 'times': 1, 'of': 11, 'trouble': 1, 'Mother': 2, 'Mary': 2, 'comes': 2, 'to': 3, 'me': 4, 'Speaking': 3, 'words': 7, 'wisdom': 7, 'let': 30, 'it': 36, 'be': 41, 'And': 3, 'my': 1, 'hour': 1, 'darkness': 1, 'she': 1, 'is': 4, 'standing': 1, 'right': 1, 'front': 1, 'Let': 6, 'Whisper': 4, 'when': 2, 'the': 4, 'broken': 1, 'hearted': 1, 'people': 1, 'living': 1, 'world': 1, 'agree': 1, 'There': 4, 'will': 5, 'an': 4, 'answer': 4, 'For': 1, 'though': 1, 'they': 2, 'may': 1, 'parted': 1, 'there': 2, 'still': 2, 'a': 2, 'chance': 1, 'that': 2, 'see': 1, 'night': 1, 'cloudy': 1, 'light': 1, 'shines': 1, 'on': 1, 'Shine': 1, 'until': 1, 'tomorrow': 1, 'wake': 1, 'up': 1, 'sound': 1, 'music': 1, 'yeah': 2}\n"
     ]
    }
   ],
   "source": [
    "with open('rosalind_ini6.txt', 'r') as file:\n",
    "    data = file.read()\n",
    "    word_count = {}\n",
    "    for word in data.split():\n",
    "    # print(f'Processing word: {word}')\n",
    "        if word in word_count:\n",
    "            word_count[word] += 1\n",
    "        else:\n",
    "            word_count[word] = 1\n",
    "    print('Total word count:', word_count)\n",
    "\n",
    "with open('answer.txt', 'w') as output_file:\n",
    "    for key, value in word_count.items():\n",
    "        output_file.write(f'{key} {value}\\n')"
   ]
  },
  {
   "cell_type": "code",
   "execution_count": null,
   "id": "eb6c124a",
   "metadata": {},
   "outputs": [],
   "source": []
  },
  {
   "cell_type": "code",
   "execution_count": null,
   "id": "ab0cc3df",
   "metadata": {},
   "outputs": [],
   "source": []
  }
 ],
 "metadata": {
  "kernelspec": {
   "display_name": "base",
   "language": "python",
   "name": "python3"
  },
  "language_info": {
   "codemirror_mode": {
    "name": "ipython",
    "version": 3
   },
   "file_extension": ".py",
   "mimetype": "text/x-python",
   "name": "python",
   "nbconvert_exporter": "python",
   "pygments_lexer": "ipython3",
   "version": "3.12.4"
  }
 },
 "nbformat": 4,
 "nbformat_minor": 5
}
